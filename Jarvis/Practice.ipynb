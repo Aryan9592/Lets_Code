{
 "cells": [
  {
   "cell_type": "code",
   "execution_count": 1,
   "id": "c6969be8",
   "metadata": {},
   "outputs": [],
   "source": [
    "# Import libraries\n",
    "import os\n",
    "import sys\n",
    "import json\n",
    "import spotipy\n",
    "import webbrowser"
   ]
  },
  {
   "cell_type": "code",
   "execution_count": 2,
   "id": "1aed79d8",
   "metadata": {},
   "outputs": [],
   "source": [
    "username = '31w6kft26xid4zfe2emwj6el5vnq'\n",
    "clientID = '3c2f87d384b44c1c90f45424fe3fe007'\n",
    "clientSecret = 'b1962843acb04ac49c1047218a0fbaea'\n",
    "redirect_uri = 'http://aryanmalik.com/callback/'"
   ]
  },
  {
   "cell_type": "code",
   "execution_count": null,
   "id": "f0a1eecf",
   "metadata": {},
   "outputs": [],
   "source": [
    "https://accounts.spotify.com/authorize?client_id=3c2f87d384b44c1c90f45424fe3fe007&response_type=code&redirect_uri=http%3A%2F%2Faryanmalik.com%2Fcallback%2F&scope=playlist-modify-public%20playlist-modify-private"
   ]
  },
  {
   "cell_type": "code",
   "execution_count": 3,
   "id": "0567d5a9",
   "metadata": {},
   "outputs": [
    {
     "ename": "AttributeError",
     "evalue": "module 'spotipy' has no attribute 'SpotifyOAuth'",
     "output_type": "error",
     "traceback": [
      "\u001b[1;31m---------------------------------------------------------------------------\u001b[0m",
      "\u001b[1;31mAttributeError\u001b[0m                            Traceback (most recent call last)",
      "Cell \u001b[1;32mIn [3], line 1\u001b[0m\n\u001b[1;32m----> 1\u001b[0m oauth_object \u001b[38;5;241m=\u001b[39m spotipy\u001b[38;5;241m.\u001b[39mSpotifyOAuth(clientID, clientSecret, redirect_uri)\n\u001b[0;32m      2\u001b[0m token_dict \u001b[38;5;241m=\u001b[39m oauth_object\u001b[38;5;241m.\u001b[39mget_access_token()\n\u001b[0;32m      3\u001b[0m token \u001b[38;5;241m=\u001b[39m token_dict[\u001b[38;5;124m'\u001b[39m\u001b[38;5;124maccess_token\u001b[39m\u001b[38;5;124m'\u001b[39m]\n",
      "\u001b[1;31mAttributeError\u001b[0m: module 'spotipy' has no attribute 'SpotifyOAuth'"
     ]
    }
   ],
   "source": [
    "oauth_object = spotipy.SpotifyOAuth(clientID, clientSecret, redirect_uri)\n",
    "token_dict = oauth_object.get_access_token()\n",
    "token = token_dict['access_token']\n",
    "spotifyObject = spotipy.Spotify(auth=token)\n",
    "user_name = spotifyObject.current_user()"
   ]
  },
  {
   "cell_type": "code",
   "execution_count": null,
   "id": "643aed99",
   "metadata": {},
   "outputs": [],
   "source": []
  }
 ],
 "metadata": {
  "kernelspec": {
   "display_name": "MLvenv",
   "language": "python",
   "name": "mlvenv"
  },
  "language_info": {
   "codemirror_mode": {
    "name": "ipython",
    "version": 3
   },
   "file_extension": ".py",
   "mimetype": "text/x-python",
   "name": "python",
   "nbconvert_exporter": "python",
   "pygments_lexer": "ipython3",
   "version": "3.10.7"
  }
 },
 "nbformat": 4,
 "nbformat_minor": 5
}
